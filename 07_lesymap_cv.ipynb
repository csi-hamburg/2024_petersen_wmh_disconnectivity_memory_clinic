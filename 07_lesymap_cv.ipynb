{
 "cells": [
  {
   "cell_type": "code",
   "execution_count": 1,
   "metadata": {
    "vscode": {
     "languageId": "r"
    }
   },
   "outputs": [
    {
     "name": "stderr",
     "output_type": "stream",
     "text": [
      "Loading required package: ANTsR\n",
      "\n",
      "Loading required package: ANTsRCore\n",
      "\n",
      "ANTsRCore 0.7.5\n",
      "For reproducible results, please set the environment variable ANTS_RANDOM_SEED,\n",
      "either in .Renviron or with a seed (e.g. XXX): \n",
      "Sys.setenv(ANTS_RANDOM_SEED = XXX)\n",
      "Sys.setenv(ITK_GLOBAL_DEFAULT_NUMBER_OF_THREADS = 1)\n",
      "may also be required for reproducible results. See\n",
      "https://github.com/ANTsX/ANTs/wiki/antsRegistration-reproducibility-issues\n",
      "for more information\n",
      "\n",
      "\n",
      "Attaching package: ‘ANTsRCore’\n",
      "\n",
      "\n",
      "The following objects are masked from ‘package:stats’:\n",
      "\n",
      "    sd, var\n",
      "\n",
      "\n",
      "The following objects are masked from ‘package:base’:\n",
      "\n",
      "    all, any, apply, max, min, prod, range, sum\n",
      "\n",
      "\n",
      "New LESYMAP available: 0.0.0.9222 (installed 0.0.0.9221)\n",
      "\n",
      "See changes at https://git.io/vFf6g\n",
      "\n",
      "Loading required package: ggplot2\n",
      "\n",
      "Loading required package: lattice\n",
      "\n"
     ]
    }
   ],
   "source": [
    "library(LESYMAP)\n",
    "library(caret)"
   ]
  },
  {
   "cell_type": "code",
   "execution_count": 2,
   "metadata": {
    "vscode": {
     "languageId": "r"
    }
   },
   "outputs": [
    {
     "data": {
      "text/plain": [
       "R version 4.4.0 (2024-04-24)\n",
       "Platform: x86_64-pc-linux-gnu\n",
       "Running under: Ubuntu 20.04.6 LTS\n",
       "\n",
       "Matrix products: default\n",
       "BLAS:   /usr/lib/x86_64-linux-gnu/blas/libblas.so.3.9.0 \n",
       "LAPACK: /usr/lib/x86_64-linux-gnu/lapack/liblapack.so.3.9.0\n",
       "\n",
       "locale:\n",
       " [1] LC_CTYPE=en_US.UTF-8       LC_NUMERIC=C              \n",
       " [3] LC_TIME=de_DE.UTF-8        LC_COLLATE=en_US.UTF-8    \n",
       " [5] LC_MONETARY=de_DE.UTF-8    LC_MESSAGES=en_US.UTF-8   \n",
       " [7] LC_PAPER=de_DE.UTF-8       LC_NAME=C                 \n",
       " [9] LC_ADDRESS=C               LC_TELEPHONE=C            \n",
       "[11] LC_MEASUREMENT=de_DE.UTF-8 LC_IDENTIFICATION=C       \n",
       "\n",
       "time zone: Europe/Berlin\n",
       "tzcode source: system (glibc)\n",
       "\n",
       "attached base packages:\n",
       "[1] stats     graphics  grDevices utils     datasets  methods   base     \n",
       "\n",
       "other attached packages:\n",
       "[1] caret_6.0-93       lattice_0.22-5     ggplot2_3.4.0      LESYMAP_0.0.0.9221\n",
       "[5] ANTsR_0.5.7.5      ANTsRCore_0.7.5   \n",
       "\n",
       "loaded via a namespace (and not attached):\n",
       " [1] gtable_0.3.1         recipes_1.0.4        vctrs_0.5.1         \n",
       " [4] tools_4.4.0          generics_0.1.3       stats4_4.4.0        \n",
       " [7] parallel_4.4.0       tibble_3.1.8         fansi_1.0.4         \n",
       "[10] ITKR_0.6.0.0.2       ModelMetrics_1.2.2.2 pkgconfig_2.0.3     \n",
       "[13] Matrix_1.5-3         data.table_1.14.6    assertthat_0.2.1    \n",
       "[16] uuid_1.0-3           lifecycle_1.0.3      stringr_1.5.0       \n",
       "[19] compiler_4.4.0       munsell_0.5.0        repr_1.1.4          \n",
       "[22] getPass_0.2-2        codetools_0.2-19     lmPerm_2.1.0        \n",
       "[25] htmltools_0.5.4      class_7.3-22         prodlim_2019.11.13  \n",
       "[28] pillar_1.8.1         crayon_1.5.2         MASS_7.3-60         \n",
       "[31] gower_1.0.1          iterators_1.0.14     rpart_4.1.23        \n",
       "[34] foreach_1.5.2        nlme_3.1-163         parallelly_1.34.0   \n",
       "[37] lava_1.7.1           tidyselect_1.2.0     digest_0.6.31       \n",
       "[40] stringi_1.7.12       future_1.30.0        reshape2_1.4.4      \n",
       "[43] purrr_1.0.1          dplyr_1.0.10         listenv_0.9.0       \n",
       "[46] splines_4.4.0        fastmap_1.1.0        grid_4.4.0          \n",
       "[49] colorspace_2.0-3     cli_3.6.0            magrittr_2.0.3      \n",
       "[52] base64enc_0.1-3      survival_3.5-0       utf8_1.2.2          \n",
       "[55] IRdisplay_1.1        future.apply_1.10.0  withr_2.5.0         \n",
       "[58] scales_1.2.1         IRkernel_1.3         lubridate_1.9.0     \n",
       "[61] timechange_0.2.0     globals_0.16.2       nnet_7.3-19         \n",
       "[64] timeDate_4022.108    pbdZMQ_0.3-7         RcppEigen_0.3.3.9.3 \n",
       "[67] evaluate_0.20        hardhat_1.2.0        rlang_1.0.6         \n",
       "[70] Rcpp_1.0.11          glue_1.6.2           DBI_1.1.3           \n",
       "[73] pROC_1.18.0          ipred_0.9-13         jsonlite_1.8.4      \n",
       "[76] R6_2.5.1             plyr_1.8.8          "
      ]
     },
     "metadata": {},
     "output_type": "display_data"
    }
   ],
   "source": [
    "sessionInfo()"
   ]
  },
  {
   "cell_type": "code",
   "execution_count": 3,
   "metadata": {
    "vscode": {
     "languageId": "r"
    }
   },
   "outputs": [],
   "source": [
    "k = 10"
   ]
  },
  {
   "cell_type": "code",
   "execution_count": null,
   "metadata": {
    "vscode": {
     "languageId": "r"
    }
   },
   "outputs": [],
   "source": [
    "set.seed(42)  # Set seed for reproducibility\n",
    "\n",
    "y = \"attention\"\n",
    "\n",
    "behavior <- read.table(paste0(\"../input/lesymap/\", y, \".txt\"))\n",
    "filenames <- readLines(paste0(\"../input/lesymap/\", y, \"_lesionmaps.txt\"))\n",
    "\n",
    "n <- length(filenames)\n",
    "indices <- 1:n\n",
    "fold_indices <- createFolds(1:n, k = k, list = TRUE, returnTrain = TRUE)\n",
    "\n",
    "for (i in 1:k){\n",
    "\n",
    "    print(paste0(\"Fold \", i))\n",
    "\n",
    "    fold_dir <- file.path(\"../output/lesymap_cv\", paste0(y,\"_fold_\", i))\n",
    "    dir.create(fold_dir, showWarnings = FALSE)\n",
    "\n",
    "    train_indices <- fold_indices[[i]]\n",
    "    test_indices <- setdiff(indices, train_indices)\n",
    "\n",
    "    behavior_train <- behavior[train_indices,]\n",
    "    behavior_test <- behavior[test_indices,]\n",
    "\n",
    "    filenames_train <- filenames[train_indices]\n",
    "    filenames_test <- filenames[test_indices]\n",
    "\n",
    "    lesions_train <- imageFileNames2ImageList(filenames_train)\n",
    "    lesions_test <- imageFileNames2ImageList(filenames_test)\n",
    "\n",
    "    lsm = lesymap(lesions_train, behavior_train, method = 'sccan', \n",
    "            optimizeSparseness=FALSE, validateSparseness=FALSE, correctByLesSize=\"voxel\", minSubjectPerVoxel = \"1%\") # default sparseness=0.045\n",
    "\n",
    "    predbehav = lesymap.predict(lsm = lsm, lesions_test)\n",
    "    write.csv(predbehav, file = paste0(fold_dir, \"/\", y, \"_predbehav.csv\"))\n",
    "    \n",
    "    r = cor(behavior_test, as.vector(predbehav$behavior.scaled))\n",
    "    write.csv(r, file = paste0(fold_dir, \"/\", y, \"_pearsonr.csv\"))\n",
    "\n",
    "    save.lesymap(lsm, fold_dir)\n",
    "\n",
    "}"
   ]
  },
  {
   "cell_type": "code",
   "execution_count": null,
   "metadata": {
    "vscode": {
     "languageId": "r"
    }
   },
   "outputs": [],
   "source": [
    "set.seed(42)  # Set seed for reproducibility\n",
    "\n",
    "y = \"ips\"\n",
    "\n",
    "behavior <- read.table(paste0(\"../input/lesymap/\", y, \".txt\"))\n",
    "filenames <- readLines(paste0(\"../input/lesymap/\", y, \"_lesionmaps.txt\"))\n",
    "\n",
    "n <- length(filenames)\n",
    "indices <- 1:n\n",
    "fold_indices <- createFolds(1:n, k = k, list = TRUE, returnTrain = TRUE)\n",
    "\n",
    "for (i in 1:k){\n",
    "\n",
    "    print(paste0(\"Fold \", i))\n",
    "\n",
    "    fold_dir <- file.path(\"../output/lesymap_cv\", paste0(y,\"_fold_\", i))\n",
    "    dir.create(fold_dir, showWarnings = FALSE)\n",
    "\n",
    "    train_indices <- fold_indices[[i]]\n",
    "    test_indices <- setdiff(indices, train_indices)\n",
    "\n",
    "    behavior_train <- behavior[train_indices,]\n",
    "    behavior_test <- behavior[test_indices,]\n",
    "\n",
    "    filenames_train <- filenames[train_indices]\n",
    "    filenames_test <- filenames[test_indices]\n",
    "\n",
    "    lesions_train <- imageFileNames2ImageList(filenames_train)\n",
    "    lesions_test <- imageFileNames2ImageList(filenames_test)\n",
    "\n",
    "    lsm = lesymap(lesions_train, behavior_train, method = 'sccan', \n",
    "            optimizeSparseness=FALSE, validateSparseness=FALSE, correctByLesSize=\"voxel\", minSubjectPerVoxel = \"1%\") # default sparseness=0.045\n",
    "\n",
    "    predbehav = lesymap.predict(lsm = lsm, lesions_test)\n",
    "    write.csv(predbehav, file = paste0(fold_dir, \"/\", y, \"_predbehav.csv\"))\n",
    "    \n",
    "    r = cor(behavior_test, as.vector(predbehav$behavior.scaled))\n",
    "    write.csv(r, file = paste0(fold_dir, \"/\", y, \"_pearsonr.csv\"))\n",
    "\n",
    "    save.lesymap(lsm, fold_dir)\n",
    "\n",
    "}\n",
    "\n"
   ]
  },
  {
   "cell_type": "code",
   "execution_count": null,
   "metadata": {
    "vscode": {
     "languageId": "r"
    }
   },
   "outputs": [],
   "source": [
    "behavior <- read.table(paste0(\"../input/lesymap/\", y, \".txt\"))\n",
    "filenames <- readLines(paste0(\"../input/lesymap/\", y, \"_lesionmaps.txt\"))\n",
    "\n",
    "n <- length(filenames)\n",
    "indices <- 1:n\n",
    "fold_indices <- createFolds(1:n, k = k, list = TRUE, returnTrain = TRUE)\n",
    "\n",
    "for (i in 1:k){\n",
    "\n",
    "    print(paste0(\"Fold \", i))\n",
    "\n",
    "    fold_dir <- file.path(\"../output/lesymap_cv\", paste0(y,\"_fold_\", i))\n",
    "    dir.create(fold_dir, showWarnings = FALSE)\n",
    "\n",
    "    train_indices <- fold_indices[[i]]\n",
    "    test_indices <- setdiff(indices, train_indices)\n",
    "\n",
    "    behavior_train <- behavior[train_indices,]\n",
    "    behavior_test <- behavior[test_indices,]\n",
    "\n",
    "    filenames_train <- filenames[train_indices]\n",
    "    filenames_test <- filenames[test_indices]\n",
    "\n",
    "    lesions_train <- imageFileNames2ImageList(filenames_train)\n",
    "    lesions_test <- imageFileNames2ImageList(filenames_test)\n",
    "\n",
    "    lsm = lesymap(lesions_train, behavior_train, method = 'sccan', \n",
    "            optimizeSparseness=FALSE, validateSparseness=FALSE, correctByLesSize=\"voxel\", minSubjectPerVoxel = \"1%\") # default sparseness=0.045\n",
    "\n",
    "    predbehav = lesymap.predict(lsm = lsm, lesions_test)\n",
    "    write.csv(predbehav, file = paste0(fold_dir, \"/\", y, \"_predbehav.csv\"))\n",
    "    \n",
    "    r = cor(behavior_test, as.vector(predbehav$behavior.scaled))\n",
    "    write.csv(r, file = paste0(fold_dir, \"/\", y, \"_pearsonr.csv\"))\n",
    "\n",
    "    save.lesymap(lsm, fold_dir)\n",
    "\n",
    "}\n",
    "\n"
   ]
  },
  {
   "cell_type": "code",
   "execution_count": null,
   "metadata": {
    "vscode": {
     "languageId": "r"
    }
   },
   "outputs": [],
   "source": [
    "y = \"verbal_memory\"\n",
    "\n",
    "behavior <- read.table(paste0(\"../input/lesymap/\", y, \".txt\"))\n",
    "filenames <- readLines(paste0(\"../input/lesymap/\", y, \"_lesionmaps.txt\"))\n",
    "\n",
    "n <- length(filenames)\n",
    "indices <- 1:n\n",
    "fold_indices <- createFolds(1:n, k = k, list = TRUE, returnTrain = TRUE)\n",
    "\n",
    "for (i in 1:k){\n",
    "\n",
    "    print(paste0(\"Fold \", i))\n",
    "\n",
    "    fold_dir <- file.path(\"../output/lesymap_cv\", paste0(y,\"_fold_\", i))\n",
    "    dir.create(fold_dir, showWarnings = FALSE)\n",
    "\n",
    "    train_indices <- fold_indices[[i]]\n",
    "    test_indices <- setdiff(indices, train_indices)\n",
    "\n",
    "    behavior_train <- behavior[train_indices,]\n",
    "    behavior_test <- behavior[test_indices,]\n",
    "\n",
    "    filenames_train <- filenames[train_indices]\n",
    "    filenames_test <- filenames[test_indices]\n",
    "\n",
    "    lesions_train <- imageFileNames2ImageList(filenames_train)\n",
    "    lesions_test <- imageFileNames2ImageList(filenames_test)\n",
    "\n",
    "    lsm = lesymap(lesions_train, behavior_train, method = 'sccan', \n",
    "            optimizeSparseness=FALSE, validateSparseness=FALSE, correctByLesSize=\"voxel\", minSubjectPerVoxel = \"1%\") # default sparseness=0.045\n",
    "\n",
    "    predbehav = lesymap.predict(lsm = lsm, lesions_test)\n",
    "    write.csv(predbehav, file = paste0(fold_dir, \"/\", y, \"_predbehav.csv\"))\n",
    "    \n",
    "    r = cor(behavior_test, as.vector(predbehav$behavior.scaled))\n",
    "    write.csv(r, file = paste0(fold_dir, \"/\", y, \"_pearsonr.csv\"))\n",
    "\n",
    "    save.lesymap(lsm, fold_dir)\n",
    "\n",
    "}\n",
    "\n"
   ]
  }
 ],
 "metadata": {
  "kernelspec": {
   "display_name": "R",
   "language": "R",
   "name": "ir"
  },
  "language_info": {
   "codemirror_mode": "r",
   "file_extension": ".r",
   "mimetype": "text/x-r-source",
   "name": "R",
   "pygments_lexer": "r",
   "version": "4.4.0"
  },
  "orig_nbformat": 4,
  "vscode": {
   "interpreter": {
    "hash": "e2354512771dad4c667efaf5b68897636356778bda725170f628cbff1df08cc7"
   }
  }
 },
 "nbformat": 4,
 "nbformat_minor": 2
}
