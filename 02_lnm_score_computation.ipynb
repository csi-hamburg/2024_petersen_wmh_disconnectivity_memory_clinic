{
 "cells": [
  {
   "cell_type": "markdown",
   "metadata": {},
   "source": [
    "# Lesion network mapping score computation"
   ]
  },
  {
   "cell_type": "markdown",
   "metadata": {},
   "source": [
    "This script combines individual-level WMH masks with ROI-level functional and structural connectivity maps (computed via LEAD DBS) to obtain regional functional and structural lesion network mapping scores"
   ]
  },
  {
   "cell_type": "code",
   "execution_count": 1,
   "metadata": {},
   "outputs": [],
   "source": [
    "import numpy as np\n",
    "import pandas as pd\n",
    "from pathlib import Path"
   ]
  },
  {
   "cell_type": "code",
   "execution_count": 2,
   "metadata": {},
   "outputs": [],
   "source": [
    "code_dir=Path.cwd()\n",
    "project_dir=code_dir.parent\n",
    "input_dir=project_dir/\"input\"\n",
    "output_dir=project_dir/\"output/roiwise_lnm_scores\"\n",
    "tmp_dir=project_dir/\"tmp\"\n",
    "\n",
    "output_dir.mkdir(exist_ok=True)"
   ]
  },
  {
   "cell_type": "code",
   "execution_count": 3,
   "metadata": {},
   "outputs": [],
   "source": [
    "nifti_dirs = [\"fLNM_GSP1000_schaefer400_plus_subcort\", \"fLNM_GSP1000_schaefer200\",\"fLNM_GSP1000_schaefer100\", 'fLNM_GSP1000_HCP842', 'fLNM_GSP1000_tian', 'sLNM_HCP32_schaefer400_plus_subcort','sLNM_HCP32_schaefer200','sLNM_HCP32_schaefer100', 'sLNM_HCP32_HCP842', 'sLNM_HCP32_tian']\n"
   ]
  },
  {
   "cell_type": "markdown",
   "metadata": {},
   "source": [
    "# Prepare 4D niftis"
   ]
  },
  {
   "cell_type": "code",
   "execution_count": 4,
   "metadata": {},
   "outputs": [],
   "source": [
    "schaefer400_labels = pd.read_csv(input_dir/\"atlases/Schaefer400Parcels7Networks_labels.txt\", delim_whitespace=True).columns.to_list()\n",
    "\n",
    "hcp1065_labels = pd.read_csv(input_dir/\"atlases/HCP1065_labels.txt\", delim_whitespace=True, header=None, index_col=0).index.to_list()\n",
    "hcp1065_labels = [i.replace(\".nii.gz\",\"\") for i in hcp1065_labels]\n",
    "\n",
    "tian_labels = pd.read_csv(input_dir/\"atlases/Tian_Subcortex_S1_3T_label.txt\", delim_whitespace=True, header=None, index_col=0).index.to_list()\n",
    "\n",
    "roi_labels = schaefer400_labels + hcp1065_labels + tian_labels"
   ]
  },
  {
   "cell_type": "code",
   "execution_count": 7,
   "metadata": {},
   "outputs": [],
   "source": [
    "# produce 4D LNM image by concatenating ROI_level functional / structural connectivity maps computed via \"connectome_mapper\" of LEAD DBS (4d: x,y,z,ROIs)\n",
    "# mrcat $(cat sLNM_roi_paths.txt) sLNM_rois.nii -axis 3\n",
    "# mrcat $(cat fLNM_roi_paths.txt) fLNM_rois.nii -axis 3"
   ]
  },
  {
   "cell_type": "markdown",
   "metadata": {},
   "source": [
    "# Extract ROIwise LNM scores"
   ]
  },
  {
   "cell_type": "code",
   "execution_count": null,
   "metadata": {},
   "outputs": [],
   "source": [
    "from joblib import Parallel, delayed\n",
    "import pandas as pd\n",
    "import nibabel as nib\n",
    "from nilearn.image import resample_to_img\n",
    "\n",
    "def process_LNM(WMH_img, WMH_path, LNM_type, roi, roi_idx, LNM_img_4d, LNM_img_4d_data, LNM_df):\n",
    "    sub_name = WMH_path.name.split(\"_WMH\")[0]\n",
    "    if LNM_type == \"sLNM\": normative_connectome = \"HCP32\"; \n",
    "    elif LNM_type == \"fLNM\": normative_connectome = \"GSP1000\"\n",
    "    if sub_name in LNM_df.index and f\"{LNM_type}_{normative_connectome}_{roi}_pos_mean\" in LNM_df.columns:\n",
    "        if not LNM_df[f\"{LNM_type}_{normative_connectome}_{roi}_pos_mean\"].isna()[sub_name]:\n",
    "            print(f\"{sub_name} {LNM_type}_{normative_connectome}_{roi} already available: {LNM_df[f'{LNM_type}_{normative_connectome}_{roi}_pos'][sub_name]}\")\n",
    "            return\n",
    "    else: print(f\"Sampling {LNM_type} {normative_connectome} {roi} for {sub_name}\")\n",
    "\n",
    "\n",
    "    resampled_WMH_img = resample_to_img(WMH_img, LNM_img_4d, interpolation='nearest')\n",
    "    WMH_data = resampled_WMH_img.get_fdata()\n",
    "    LNM_data = LNM_img_4d_data[:,:,:,roi_idx]\n",
    "\n",
    "    LNM_data_pos = LNM_data.copy()\n",
    "    LNM_data_pos[LNM_data_pos < 0] = 0\n",
    "\n",
    "    LNM_data_neg = LNM_data.copy()\n",
    "    LNM_data_neg[LNM_data_neg > 0] = 0\n",
    "\n",
    "    sum_ = np.nansum(LNM_data[WMH_data == 1])\n",
    "    mean_ = np.nanmean(LNM_data[WMH_data == 1])\n",
    "\n",
    "    pos_sum = np.nansum(LNM_data_pos[WMH_data == 1])\n",
    "    pos_mean = np.nanmean(LNM_data_pos[WMH_data == 1])\n",
    "\n",
    "    neg_sum = np.nansum(LNM_data_neg[WMH_data == 1])\n",
    "    neg_mean = np.nanmean(LNM_data_neg[WMH_data == 1])\n",
    "\n",
    "    LNM_data_pos_p75 = np.nanpercentile(LNM_data_pos[WMH_data == 1], 75)\n",
    "    LNM_data_pos_p50 = np.nanpercentile(LNM_data_pos[WMH_data == 1], 50)\n",
    "\n",
    "    LNM_data_neg_p25 = np.nanpercentile(LNM_data_neg[WMH_data == 1], 25)\n",
    "    LNM_data_neg_p50 = np.nanpercentile(LNM_data_neg[WMH_data == 1], 50)\n",
    "\n",
    "    LNM_data_pos[LNM_data_pos < LNM_data_pos_p50] = None\n",
    "    pos_mean_p50 = np.nanmean(LNM_data_pos[WMH_data == 1])\n",
    "\n",
    "    LNM_data_pos[LNM_data_pos < LNM_data_pos_p75] = None\n",
    "    pos_mean_p75 = np.nanmean(LNM_data_pos[WMH_data == 1])\n",
    "\n",
    "    LNM_data_neg[LNM_data_neg > LNM_data_neg_p50] = None\n",
    "    neg_mean_p50 = np.nanmean(LNM_data_neg[WMH_data == 1])\n",
    "\n",
    "    LNM_data_neg[LNM_data_neg > LNM_data_neg_p25] = None\n",
    "    neg_mean_p25 = np.nanmean(LNM_data_neg[WMH_data == 1])\n",
    "\n",
    "    return pd.DataFrame({f\"{LNM_type}_{normative_connectome}_{roi}_sum\": sum_,\n",
    "                         f\"{LNM_type}_{normative_connectome}_{roi}_mean\": mean_,\n",
    "                         f\"{LNM_type}_{normative_connectome}_{roi}_pos_sum\": pos_sum, \n",
    "                         f\"{LNM_type}_{normative_connectome}_{roi}_pos_mean\": pos_mean, \n",
    "                         f\"{LNM_type}_{normative_connectome}_{roi}_pos_mean_peak50\": pos_mean_p50,\n",
    "                         f\"{LNM_type}_{normative_connectome}_{roi}_pos_mean_peak25\": pos_mean_p75,\n",
    "                         f\"{LNM_type}_{normative_connectome}_{roi}_neg_sum\": neg_sum,\n",
    "                         f\"{LNM_type}_{normative_connectome}_{roi}_neg_mean\": neg_mean,\n",
    "                         f\"{LNM_type}_{normative_connectome}_{roi}_neg_mean_peak50\": neg_mean_p50,\n",
    "                         f\"{LNM_type}_{normative_connectome}_{roi}_neg_mean_peak25\": neg_mean_p25\n",
    "                         }, dtype=float, index=[sub_name])\n",
    "\n",
    "# Process in parallel\n",
    "def process_all_WMH_images(LNM_type, LNM_df, roi_labels):\n",
    "    \n",
    "    LNM_img_4d = nib.load(project_dir/f\"output/atlas_rois/{LNM_type}_rois.nii\")\n",
    "    \n",
    "    for idx, WMH_path in enumerate(WMH_paths):\n",
    "        WMH_img = nib.load(WMH_path)\n",
    "        LNM_img_4d_data = LNM_img_4d.get_fdata()\n",
    "        assert LNM_img_4d_data.shape[3] == len(roi_labels), \"4th dimension does not equal roi_labels lengths\"\n",
    "        LNM_dfs = Parallel(n_jobs=15)(delayed(process_LNM)(WMH_img, WMH_path, LNM_type, roi, roi_idx, \n",
    "                        LNM_img_4d, LNM_img_4d_data, LNM_df) for roi_idx, roi in enumerate(roi_labels))\n",
    "        # Aggregate results in memory\n",
    "        if not all(element is None for element in LNM_dfs):\n",
    "            \n",
    "            temp_df = pd.concat(LNM_dfs, axis=1, ignore_index=False)\n",
    "            LNM_df = LNM_df.combine_first(temp_df)\n",
    "        else: continue\n",
    "\n",
    "        if idx % 100 == 0:\n",
    "            print(idx)\n",
    "        if idx % 500 == 0:\n",
    "            LNM_df.to_csv(output_dir/\"LNM_df.csv\")\n",
    "\n",
    "    return temp_df, LNM_df\n",
    "\n",
    "# Pre-compute nifti_paths before the loop\n",
    "LNM_types = [\"fLNM\",\"sLNM\"]\n",
    "roi_labels = list(roi_labels_df.values.flatten())\n",
    "\n",
    "# Load LNM_df once\n",
    "LNM_df = pd.DataFrame()\n",
    "WMH_dir = input_dir/\"WMH_nii\"\n",
    "WMH_paths = sorted(WMH_dir.glob(\"*\"), reverse=True)\n",
    "WMH_paths.reverse()\n",
    "\n",
    "# Loop over LNM_types and process images\n",
    "for LNM_type in LNM_types:\n",
    "    temp_df, LNM_df = process_all_WMH_images(LNM_type, LNM_df, roi_labels)\n",
    "    LNM_df.to_csv(output_dir/f\"{LNM_type}_LNM_df.csv\")\n"
   ]
  }
 ],
 "metadata": {
  "kernelspec": {
   "display_name": "brainstat",
   "language": "python",
   "name": "python3"
  },
  "language_info": {
   "codemirror_mode": {
    "name": "ipython",
    "version": 3
   },
   "file_extension": ".py",
   "mimetype": "text/x-python",
   "name": "python",
   "nbconvert_exporter": "python",
   "pygments_lexer": "ipython3",
   "version": "3.8.0"
  },
  "orig_nbformat": 4
 },
 "nbformat": 4,
 "nbformat_minor": 2
}
