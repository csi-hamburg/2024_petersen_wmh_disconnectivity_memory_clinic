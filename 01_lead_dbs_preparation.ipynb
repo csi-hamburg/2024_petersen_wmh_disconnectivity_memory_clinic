{
 "cells": [
  {
   "cell_type": "markdown",
   "metadata": {},
   "source": [
    "# Atlas split"
   ]
  },
  {
   "cell_type": "markdown",
   "metadata": {},
   "source": [
    "Split 3d or 4d atlas images into individual volumes to feed into LEAD DBS connectome_mapper as seeds"
   ]
  },
  {
   "cell_type": "code",
   "execution_count": 2,
   "metadata": {},
   "outputs": [],
   "source": [
    "import pandas as pd\n",
    "import numpy as np\n",
    "from pathlib import Path"
   ]
  },
  {
   "cell_type": "code",
   "execution_count": 4,
   "metadata": {},
   "outputs": [],
   "source": [
    "import numpy as np\n",
    "import nibabel as nib\n",
    "\n",
    "def split_atlas_into_rois(atlas, atlas_labels):\n",
    "    \"\"\"\n",
    "    Split atlas into 3d images for each label (works for both 3D and 4D atlases)\n",
    "\n",
    "    Parameters:\n",
    "    - atlas: nibabel.nifti1.Nifti1Image, 3D or 4D atlas\n",
    "    - atlas_labels: List of labels\n",
    "\n",
    "    Returns:\n",
    "    - dict: dict of arrays with ROI masks\n",
    "    \"\"\"\n",
    "    atlas_data = atlas.get_fdata()\n",
    "    atlas_shape = atlas_data.shape\n",
    "\n",
    "    # Check the dimensionality of the atlas\n",
    "    is_4d = len(atlas_shape) == 4\n",
    "\n",
    "    if is_4d:\n",
    "        x, y, z, t = atlas_shape\n",
    "    else:\n",
    "        x, y, z = atlas_shape\n",
    "\n",
    "    if not is_4d: assert len(atlas_labels) + 1 == len(np.unique(atlas_data)), \"atlas_labels and unique values in atlas must have the same length\"\n",
    "\n",
    "    roi_dict = {}\n",
    "\n",
    "    if is_4d:\n",
    "        \n",
    "        for t_idx in range(t):\n",
    "\n",
    "            # Extract the values from the atlas\n",
    "            roi_image = atlas_data[:, :, :, t_idx]\n",
    "            \n",
    "            roi_image[roi_image > 0] = 1\n",
    "\n",
    "            # Add the ROI image to the dictionary\n",
    "            key = atlas_labels[t_idx]\n",
    "            roi_dict[key] = roi_image\n",
    "    \n",
    "    else:\n",
    "\n",
    "        for i, roi in enumerate(atlas_labels):\n",
    "\n",
    "            # Extract the values from the atlas\n",
    "            roi_image = atlas_data * (atlas_data == i + 1)\n",
    "\n",
    "            roi_image[roi_image > 0] = 1\n",
    "\n",
    "            # Add the ROI image to the dictionary\n",
    "            key = roi\n",
    "            roi_dict[key] = roi_image\n",
    "\n",
    "    return roi_dict\n"
   ]
  },
  {
   "cell_type": "markdown",
   "metadata": {},
   "source": [
    "# Schaefer400x7 atlas"
   ]
  },
  {
   "cell_type": "code",
   "execution_count": 3,
   "metadata": {},
   "outputs": [],
   "source": [
    "schaefer_atlas_path = \"../input/atlases/Schaefer400Parcels7NetworksPlusSubcort.nii.gz\"\n",
    "schaefer_labels_path = \"../input/atlases/Schaefer400Parcels7NetworksPlusSubcort_labels.txt\"\n",
    "\n",
    "schaefer_atlas = nib.load(schaefer_atlas_path)\n",
    "schaefer_labels = pd.read_csv(schaefer_labels_path, sep=\"\\t\", header=None).values.tolist()[0]"
   ]
  },
  {
   "cell_type": "code",
   "execution_count": 5,
   "metadata": {},
   "outputs": [],
   "source": [
    "schaefer_atlas_dict = split_atlas_into_rois(schaefer_atlas, schaefer_labels)"
   ]
  },
  {
   "cell_type": "code",
   "execution_count": 7,
   "metadata": {},
   "outputs": [],
   "source": [
    "output_dir_schaefer = \"../output/atlas_rois/schaefer400_plus_subcort/\"\n",
    "for key in schaefer_atlas_dict.keys():\n",
    "    atlas = nib.Nifti1Image(schaefer_atlas_dict[key], schaefer_atlas.affine)\n",
    "    nib.save(atlas, output_dir_schaefer + key + \".nii.gz\")"
   ]
  },
  {
   "cell_type": "markdown",
   "metadata": {},
   "source": [
    "# Tian atlas"
   ]
  },
  {
   "cell_type": "code",
   "execution_count": 18,
   "metadata": {},
   "outputs": [],
   "source": [
    "tian_atlas_path = \"../input/atlases/Tian_Subcortex_S1_3T_2009cAsym_regrid.nii.gz\"\n",
    "tian_labels_path = \"../input/atlases/Tian_Subcortex_S1_3T_label.txt\"\n",
    "\n",
    "tian_atlas = nib.load(tian_atlas_path)\n",
    "tian_labels = pd.read_csv(tian_labels_path, sep=\"\\t\", header=None).values.flatten().tolist()"
   ]
  },
  {
   "cell_type": "code",
   "execution_count": 19,
   "metadata": {},
   "outputs": [],
   "source": [
    "tian_atlas_dict = split_atlas_into_rois(tian_atlas, tian_labels)"
   ]
  },
  {
   "cell_type": "code",
   "execution_count": 20,
   "metadata": {},
   "outputs": [],
   "source": [
    "output_dir_tian = \"../output/atlas_rois/tian_subcortical_atlas/\"\n",
    "Path(output_dir_tian).mkdir(parents=True, exist_ok=True)\n",
    "for key in tian_atlas_dict.keys():\n",
    "    atlas = nib.Nifti1Image(tian_atlas_dict[key], tian_atlas.affine)\n",
    "    nib.save(atlas, output_dir_tian + key + \".nii.gz\")"
   ]
  },
  {
   "cell_type": "code",
   "execution_count": null,
   "metadata": {},
   "outputs": [],
   "source": []
  }
 ],
 "metadata": {
  "kernelspec": {
   "display_name": "brainstat",
   "language": "python",
   "name": "python3"
  },
  "language_info": {
   "codemirror_mode": {
    "name": "ipython",
    "version": 3
   },
   "file_extension": ".py",
   "mimetype": "text/x-python",
   "name": "python",
   "nbconvert_exporter": "python",
   "pygments_lexer": "ipython3",
   "version": "3.7.7"
  },
  "orig_nbformat": 4
 },
 "nbformat": 4,
 "nbformat_minor": 2
}
